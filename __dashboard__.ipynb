{
 "cells": [
  {
   "cell_type": "markdown",
   "id": "05567084-fd32-41ae-9fc1-9af88e46f72b",
   "metadata": {},
   "source": [
    "# ONT-Guppy Basecalling\n",
    "\n",
    "## Base calling\n",
    "\n",
    "Base calling is the process of translating the electronic raw signal of the sequencer into bases, i.e., ATCG. As for most bioinformatic tasks there are many different tools to solve this problem. Here, we will only focus on the current state-of-the-art basecaller Guppy, which is the current “official” ONT basecaller. Although basecalling can be performed “live”, i.e., in real time while sequencing, it is often useful to separate the sequencing from basecalling. One advantage of “offline” basecalling is that the basecaller can use significant amounts of compute and read/write resources which may slow the sequencing process and, in rare cases, even lead to loss of sequencing data.\n",
    "\n",
    "<img src=\"https://nanoporetech.com/sites/default/files/s3/How%20it%20works/Basecalling/MinION_GIF_08.gif\" alt=\"MinION_GIF\" width=\"400\" height=\"200\"/>\n",
    "\n",
    "## Guppy\n",
    "\n",
    "Guppy is a data processing toolkit that contains the Oxford Nanopore Technologies’ basecalling algorithms, and several bioinformatic post-processing features. It is provided as binaries to run on Windows, OS X and Linux platforms, as well as being integrated with MinKNOW, the Oxford Nanopore device control software.\n",
    "\n",
    "Guppy provides guppy_aligner, guppy_basecaller and guppy_barcoder, and can run on GPUs and CPUs.\n",
    "\n",
    "Guppy is a neural network based basecaller that in addition to basecalling also performs filtering of low quality reads, clipping of Oxford Nanopore adapters and estimation of methylation probabilities per base.\n",
    "\n",
    "<img src=\"https://nanoporetech.com/sites/default/files/s3/RNN_0.png\" alt=\"MinION_GIF\" width=\"400\" height=\"400\"/>\n",
    "\n",
    "Note\n",
    "\n",
    ">  Guppy uses significant amounts of compute resources/time if run on a processor (CPU), especially if using the High-Accuracy models. Thus, basecalling especially for larger datasets often requires compute clusters (as provided by the NCI) or specific workstation computers. ONT also released a Guppy version that utilises graphics card chips (GPUs) instead of the “usual” computer processor (CPUs). The GPU version of guppy is significantly faster than the CPU version. However, the installation is restricted to specific computers/graphics cards and can unfortunately not be virtualised, e.g. with VirtualBox."
   ]
  }
 ],
 "metadata": {
  "kernelspec": {
   "display_name": "Python 3 (ipykernel)",
   "language": "python",
   "name": "python3"
  },
  "language_info": {
   "codemirror_mode": {
    "name": "ipython",
    "version": 3
   },
   "file_extension": ".py",
   "mimetype": "text/x-python",
   "name": "python",
   "nbconvert_exporter": "python",
   "pygments_lexer": "ipython3",
   "version": "3.9.7"
  }
 },
 "nbformat": 4,
 "nbformat_minor": 5
}
