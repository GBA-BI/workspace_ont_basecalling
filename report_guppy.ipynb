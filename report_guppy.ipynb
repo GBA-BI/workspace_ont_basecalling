{
 "cells": [
  {
   "cell_type": "markdown",
   "metadata": {},
   "source": [
    "# ONT-Guppy Basecalling and QC report"
   ]
  },
  {
   "cell_type": "code",
   "execution_count": null,
   "metadata": {},
   "outputs": [],
   "source": [
    "sample_id = 'test001'\n",
    "\n",
    "from pathlib import Path\n",
    "from PIL import Image\n",
    "from IPython.display import display, FileLink\n",
    "\n",
    "png_list = list(Path('./').glob(f'**/{sample_id}*.png'))\n",
    "for png in png_list:\n",
    "    png_name = Path(png).name\n",
    "    print(f\"========================= {png_name} =============================\")\n",
    "    display(Image.open(png))"
   ]
  }
 ],
 "metadata": {
  "kernelspec": {
   "display_name": "base",
   "language": "python",
   "name": "python3"
  },
  "language_info": {
   "codemirror_mode": {
    "name": "ipython",
    "version": 3
   },
   "file_extension": ".py",
   "mimetype": "text/x-python",
   "name": "python",
   "nbconvert_exporter": "python",
   "pygments_lexer": "ipython3",
   "version": "3.11.4"
  },
  "orig_nbformat": 4
 },
 "nbformat": 4,
 "nbformat_minor": 2
}
